{
 "cells": [
  {
   "cell_type": "code",
   "execution_count": 1,
   "metadata": {},
   "outputs": [],
   "source": [
    "import numpy as np\n",
    "import pandas as pd"
   ]
  },
  {
   "cell_type": "code",
   "execution_count": 122,
   "metadata": {},
   "outputs": [
    {
     "name": "stdout",
     "output_type": "stream",
     "text": [
      "Digite o valor:10\n",
      "2\n",
      "4\n",
      "6\n",
      "8\n",
      "10\n",
      "Fim.,\n"
     ]
    }
   ],
   "source": [
    "def programa():\n",
    "    numero = int(input(\"Digite o valor:\"))\n",
    "    atual = 1\n",
    "    \n",
    "    while atual <= numero:\n",
    "        if atual % 2 == 0:\n",
    "            print(atual)\n",
    "        atual = atual + 1\n",
    "        \n",
    "    print('Fim.,')\n",
    "\n",
    "programa()"
   ]
  },
  {
   "cell_type": "code",
   "execution_count": 111,
   "metadata": {},
   "outputs": [
    {
     "name": "stdout",
     "output_type": "stream",
     "text": [
      "Digite o valor:10\n",
      "1\n",
      "2\n",
      "3\n",
      "4\n",
      "5\n",
      "6\n",
      "7\n",
      "8\n",
      "9\n",
      "10\n",
      "Fim.,\n"
     ]
    }
   ],
   "source": [
    "def programa():\n",
    "    n = int(input(\"Digite o valor:\"))\n",
    "    atual = 1\n",
    "    \n",
    "    while atual <= 10:\n",
    "        print(atual)\n",
    "        atual = atual + 1\n",
    "        \n",
    "    print('Fim.,')\n",
    "\n",
    "programa()"
   ]
  },
  {
   "cell_type": "code",
   "execution_count": 133,
   "metadata": {},
   "outputs": [
    {
     "name": "stdout",
     "output_type": "stream",
     "text": [
      "Digite o valor do número: 2\n",
      "2 é um número primo\n"
     ]
    }
   ],
   "source": [
    "def detectorPrime():\n",
    "    number = int(input(\"Digite o valor do número: \"))\n",
    "    \n",
    "    if number > 1:\n",
    "        for i in range(2, number):\n",
    "            print(i)\n",
    "            if number % i == 0:\n",
    "                print(number % i)\n",
    "                print(number, 'não é um número primo')\n",
    "                break\n",
    "        else:\n",
    "            print(number, \"é um número primo\")\n",
    "            \n",
    "detectorPrime()"
   ]
  },
  {
   "cell_type": "code",
   "execution_count": 202,
   "metadata": {},
   "outputs": [
    {
     "name": "stdout",
     "output_type": "stream",
     "text": [
      "[2, 3, 5, 7, 11, 13, 17, 19, 23, 29, 31, 37, 41, 43, 47]\n"
     ]
    }
   ],
   "source": [
    "def generatorPrime(init, final):\n",
    "    \n",
    "    lista = []\n",
    "    myList = []\n",
    "\n",
    "    for x in range(0, final):\n",
    "        lista.append(x)\n",
    "        lista\n",
    "\n",
    "    for number in lista:\n",
    "        if number > 1:\n",
    "            for i in range(2, number):\n",
    "                if number % i == 0:\n",
    "                    break\n",
    "            else:\n",
    "                myList.append(number)\n",
    "\n",
    "    print(myList)\n",
    "\n",
    "generatorPrime(0,50)"
   ]
  }
 ],
 "metadata": {
  "kernelspec": {
   "display_name": "Python 3",
   "language": "python",
   "name": "python3"
  },
  "language_info": {
   "codemirror_mode": {
    "name": "ipython",
    "version": 3
   },
   "file_extension": ".py",
   "mimetype": "text/x-python",
   "name": "python",
   "nbconvert_exporter": "python",
   "pygments_lexer": "ipython3",
   "version": "3.8.5"
  }
 },
 "nbformat": 4,
 "nbformat_minor": 4
}
