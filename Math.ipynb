{
 "cells": [
  {
   "cell_type": "code",
   "execution_count": 1,
   "metadata": {},
   "outputs": [],
   "source": [
    "import numpy as np\n",
    "import pandas as pd"
   ]
  },
  {
   "cell_type": "code",
   "execution_count": 133,
   "metadata": {},
   "outputs": [
    {
     "name": "stdout",
     "output_type": "stream",
     "text": [
      "Digite o valor do número: 2\n",
      "2 é um número primo\n"
     ]
    }
   ],
   "source": [
    "def detectorPrime():\n",
    "    number = int(input(\"Digite o valor do número: \"))\n",
    "    \n",
    "    if number > 1:\n",
    "        for i in range(2, number):\n",
    "            print(i)\n",
    "            if number % i == 0:\n",
    "                print(number % i)\n",
    "                print(number, 'não é um número primo')\n",
    "                break\n",
    "        else:\n",
    "            print(number, \"é um número primo\")\n",
    "            \n",
    "detectorPrime()"
   ]
  },
  {
   "cell_type": "code",
   "execution_count": null,
   "metadata": {},
   "outputs": [],
   "source": [
    "def generatorPrime():\n",
    "    \n",
    "    init = int(input(\"Enter first value: \"))\n",
    "    final = int(input(\"Enter last value: \"))\n",
    "    \n",
    "    lista = []\n",
    "    myList = []\n",
    "\n",
    "    for x in range(0, final):\n",
    "        lista.append(x)\n",
    "        lista\n",
    "\n",
    "    for number in lista:\n",
    "        if number > 1:\n",
    "            for i in range(2, number):\n",
    "                if number % i == 0:\n",
    "                    break\n",
    "            else:\n",
    "                myList.append(number)\n",
    "\n",
    "    print(myList)\n",
    "\n",
    "generatorPrime()"
   ]
  }
 ],
 "metadata": {
  "kernelspec": {
   "display_name": "Python 3",
   "language": "python",
   "name": "python3"
  },
  "language_info": {
   "codemirror_mode": {
    "name": "ipython",
    "version": 3
   },
   "file_extension": ".py",
   "mimetype": "text/x-python",
   "name": "python",
   "nbconvert_exporter": "python",
   "pygments_lexer": "ipython3",
   "version": "3.8.5"
  }
 },
 "nbformat": 4,
 "nbformat_minor": 4
}
